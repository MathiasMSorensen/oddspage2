{
 "cells": [
  {
   "cell_type": "code",
   "execution_count": 3,
   "metadata": {},
   "outputs": [
    {
     "ename": "ModuleNotFoundError",
     "evalue": "No module named 'oddspage.utils.odds_calc_utils'; 'oddspage.utils' is not a package",
     "output_type": "error",
     "traceback": [
      "\u001b[0;31m---------------------------------------------------------------------------\u001b[0m",
      "\u001b[0;31mModuleNotFoundError\u001b[0m                       Traceback (most recent call last)",
      "Cell \u001b[0;32mIn[3], line 6\u001b[0m\n\u001b[1;32m      4\u001b[0m \u001b[39mimport\u001b[39;00m \u001b[39msys\u001b[39;00m\n\u001b[1;32m      5\u001b[0m sys\u001b[39m.\u001b[39mpath\u001b[39m.\u001b[39mappend(\u001b[39mstr\u001b[39m(Path\u001b[39m.\u001b[39mcwd()\u001b[39m.\u001b[39mparent))\n\u001b[0;32m----> 6\u001b[0m \u001b[39mfrom\u001b[39;00m \u001b[39moddspage\u001b[39;00m\u001b[39m.\u001b[39;00m\u001b[39mutils\u001b[39;00m\u001b[39m.\u001b[39;00m\u001b[39modds_calc_utils\u001b[39;00m \u001b[39mimport\u001b[39;00m bookie_yield\n",
      "\u001b[0;31mModuleNotFoundError\u001b[0m: No module named 'oddspage.utils.odds_calc_utils'; 'oddspage.utils' is not a package"
     ]
    }
   ],
   "source": [
    "import pandas as pd\n",
    "import numpy as np\n",
    "from pathlib import Path\n",
    "import sys\n",
    "sys.path.append(str(Path.cwd().parent))\n",
    "from utils.odds_calc_utils import bookie_yield"
   ]
  },
  {
   "cell_type": "code",
   "execution_count": 32,
   "metadata": {},
   "outputs": [],
   "source": [
    "import sys"
   ]
  },
  {
   "cell_type": "code",
   "execution_count": 38,
   "metadata": {},
   "outputs": [],
   "source": [
    "sys.path.append('projects/oddspage/utils/')"
   ]
  },
  {
   "cell_type": "code",
   "execution_count": 2,
   "metadata": {},
   "outputs": [],
   "source": [
    "def bookie_yield(H, D, A):\n",
    "    try:\n",
    "        x = (1/H + 1/D + 1/A - 1)\n",
    "    except ZeroDivisionError:\n",
    "        x = np.nan\n",
    "    return x"
   ]
  },
  {
   "cell_type": "code",
   "execution_count": 25,
   "metadata": {},
   "outputs": [],
   "source": [
    "# do not read the index column\n",
    "df_odds = pd.read_csv('data/0_Odds-data.csv', index_col=0)"
   ]
  },
  {
   "cell_type": "code",
   "execution_count": 21,
   "metadata": {},
   "outputs": [],
   "source": [
    "# read all csv within data/2022 folder to one pandas dataframe\n",
    "df_odds_2023 = pd.concat([pd.read_csv(file, engine='python') for file in Path(\"data/2023\").rglob(\"*.csv\")])\n",
    "df_odds_2022 = pd.concat([pd.read_csv(file, engine='python') for file in Path(\"data/2022\").rglob(\"*.csv\")])"
   ]
  },
  {
   "cell_type": "code",
   "execution_count": 27,
   "metadata": {},
   "outputs": [],
   "source": [
    "for year in [2022,2023]:\n",
    "    files = Path(f\"data/{year}/\").rglob(\"*.csv\")\n",
    "    df_main_csvs = [pd.read_csv(file, engine='python') for file in files]\n",
    "    df_main_csvs = pd.concat(df_main_csvs)\n",
    "    df_main_csvs = df_main_csvs.reset_index(drop=True)\n",
    "\n",
    "    # Find odds for as many matches as possible:\n",
    "    home = ['VCH', 'B365H', 'BWH', 'IWH', 'WHH', 'PSH']\n",
    "    draw = ['VCD', 'B365D', 'BWD', 'IWD', 'WHD', 'PSD']\n",
    "    away = ['VCA', 'B365A', 'BWA', 'IWA', 'WHA', 'PSA']\n",
    "    df_main_csvs['mH'] = df_main_csvs.apply(lambda x: max(x[home].dropna(), default=np.nan), axis=1)\n",
    "    df_main_csvs['mD'] = df_main_csvs.apply(lambda x: max(x[draw].dropna(), default=np.nan), axis=1)\n",
    "    df_main_csvs['mA'] = df_main_csvs.apply(lambda x: max(x[away].dropna(), default=np.nan), axis=1)\n",
    "\n",
    "    # Save relevant columns only:\n",
    "    df_main_csvs = df_main_csvs[['HomeTeam', 'AwayTeam', 'Date', 'Div', 'FTAG', 'FTHG', 'FTR', 'mH', 'mD', 'mA']]\n",
    "    # Caluclate bookie yield:\n",
    "    df_main_csvs['Bookie_yield'] = df_main_csvs.apply(lambda x: bookie_yield(x.mH, x.mD, x.mA), axis=1)\n",
    "    df_odds = df_odds.append(df_main_csvs)"
   ]
  },
  {
   "cell_type": "code",
   "execution_count": 12,
   "metadata": {},
   "outputs": [
    {
     "data": {
      "text/plain": [
       "array(['E0'], dtype=object)"
      ]
     },
     "execution_count": 12,
     "metadata": {},
     "output_type": "execute_result"
    }
   ],
   "source": [
    "pd.read_excel(\"data/all-euro-data-2021-2022.xlsx\")[\"Div\"].unique()"
   ]
  }
 ],
 "metadata": {
  "kernelspec": {
   "display_name": "Python 3",
   "language": "python",
   "name": "python3"
  },
  "language_info": {
   "codemirror_mode": {
    "name": "ipython",
    "version": 3
   },
   "file_extension": ".py",
   "mimetype": "text/x-python",
   "name": "python",
   "nbconvert_exporter": "python",
   "pygments_lexer": "ipython3",
   "version": "3.10.6"
  },
  "orig_nbformat": 4
 },
 "nbformat": 4,
 "nbformat_minor": 2
}
